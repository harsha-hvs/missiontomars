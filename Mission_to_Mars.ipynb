{
 "cells": [
  {
   "cell_type": "code",
   "execution_count": 2,
   "metadata": {},
   "outputs": [],
   "source": [
    "# Import functionalities\n",
    "from splinter import Browser\n",
    "from bs4 import BeautifulSoup\n",
    "import requests\n",
    "import re\n",
    "import pandas as pd"
   ]
  },
  {
   "cell_type": "code",
   "execution_count": 3,
   "metadata": {},
   "outputs": [],
   "source": [
    "# instantiate the splinter object \n",
    "def init_browser():\n",
    "    # @NOTE: Replace the path with your actual path to the chromedriver\n",
    "    executable_path = {\"executable_path\": \"chromedriver.exe\"}\n",
    "    return Browser(\"chrome\", **executable_path, headless=False)\n",
    "\n",
    "\n"
   ]
  },
  {
   "cell_type": "code",
   "execution_count": 4,
   "metadata": {},
   "outputs": [
    {
     "data": {
      "text/plain": [
       "'NASA Invites Students to Name Mars 2020 Rover'"
      ]
     },
     "execution_count": 4,
     "metadata": {},
     "output_type": "execute_result"
    }
   ],
   "source": [
    "# Scrape function to collect all the scraped data and store it in a dictionary\n",
    "#def scrape():\n",
    "\n",
    "# Scrape the NASA Data\n",
    "\n",
    "nasa_url = \"https://mars.nasa.gov/news/\"\n",
    "nasa_response = requests.get(nasa_url)\n",
    "nasa_soup = BeautifulSoup(nasa_response.text, \"html.parser\")\n",
    "news_title = (nasa_soup.find(\"div\", class_=\"content_title\").find('a').text).replace('\\n', '')\n",
    "news_description = (nasa_soup.find(\"div\", class_=\"rollover_description_inner\").text).replace('\\n', '')\n",
    "news_title"
   ]
  },
  {
   "cell_type": "code",
   "execution_count": 5,
   "metadata": {},
   "outputs": [
    {
     "name": "stdout",
     "output_type": "stream",
     "text": [
      "https://www.jpl.nasa.gov/spaceimages/images/wallpaper/PIA19980-1920x1200.jpg\n"
     ]
    }
   ],
   "source": [
    "# Scrape the JPL MARS site for the image\n",
    "mars_url = \"https://www.jpl.nasa.gov/spaceimages/?search=&category=Mars\"\n",
    "mars_response = requests.get(mars_url)\n",
    "mars_soup = BeautifulSoup(mars_response.text, \"lxml\")\n",
    "featured_image_style =  mars_soup.find(\"div\", class_=\"carousel_items\").find('article')['style']\n",
    "featured_image_url = \"\".join(mars_url.split(\"/spaceimages\")[0]) + re.findall(\"url\\('(.*?)'\\)\", featured_image_style)[0]\n",
    "print(featured_image_url)\n",
    "# return scrapped_listings"
   ]
  },
  {
   "cell_type": "code",
   "execution_count": 6,
   "metadata": {},
   "outputs": [
    {
     "data": {
      "text/plain": [
       "'InSight sol 330 (2019-10-31) low -101.8ºC (-151.3ºF) high -24.8ºC (-12.6ºF)\\nwinds from the SSE at 5.4 m/s (12.2 mph) gusting to 20.8 m/s (46.5 mph)\\npressure at 7.00 hPa'"
      ]
     },
     "execution_count": 6,
     "metadata": {},
     "output_type": "execute_result"
    }
   ],
   "source": [
    "# Scrape the NASA Data\n",
    "twitter_url = \"https://twitter.com/marswxreport?lang=en\"\n",
    "twitter_response = requests.get(twitter_url)\n",
    "twitter_soup = BeautifulSoup(twitter_response.text, \"html.parser\")\n",
    "mars_weather = ''.join((twitter_soup.find(\"div\", class_=\"js-tweet-text-container\").find('p').text).partition(\"hPa\")[:2])\n",
    "mars_weather"
   ]
  },
  {
   "cell_type": "code",
   "execution_count": 7,
   "metadata": {},
   "outputs": [],
   "source": [
    "facts_url = 'https://space-facts.com/mars/'\n",
    "facts_tables = pd.read_html(facts_url)\n",
    "facts_df = facts_tables[1]\n",
    "facts_df.columns = ['Description','Value']\n",
    "facts_df.set_index('Description', inplace=True)\n",
    "facts_table = facts_df.to_html().replace('\\n', '')"
   ]
  },
  {
   "cell_type": "code",
   "execution_count": 8,
   "metadata": {},
   "outputs": [],
   "source": [
    "# Scrape the JPL MARS site for the image\n",
    "hemisphere_image_urls=[]\n",
    "hemis_browser = init_browser()\n",
    "mars_hemispheres = \"https://astrogeology.usgs.gov/search/results?q=hemisphere+enhanced&k1=target&v1=Mars\"\n",
    "hemis_browser.visit(mars_hemispheres)\n",
    "hemispheres_html = hemis_browser.html\n",
    "hemispheres_soup = BeautifulSoup(hemispheres_html, \"lxml\")\n",
    "hemispheres_div = hemispheres_soup.find_all(\"div\", class_=\"description\")\n",
    "for index,div in enumerate(hemispheres_div):\n",
    "    hemisphere_dict={}\n",
    "    hemisphere_dict[\"title\"] = div.find('h3').text\n",
    "#     #Get url\n",
    "#     hemisphere_url = div.find('a')['href']\n",
    "    #Visit page\n",
    "    hemis_browser.click_link_by_partial_text(hemisphere_dict[\"title\"])\n",
    "    #Extract image \n",
    "    hemisphere_url_html = hemis_browser.html\n",
    "    hemisphere_url_soup = BeautifulSoup(hemisphere_url_html, \"lxml\")\n",
    "    hemisphere_dict[\"img_url\"] = hemisphere_url_soup.find(\"div\", class_=\"downloads\").find('li').find('a')['href']\n",
    "    hemisphere_image_urls.append(hemisphere_dict)\n",
    "    hemis_browser.back()\n",
    "# Close the browser after scraping\n",
    "hemis_browser.quit()"
   ]
  },
  {
   "cell_type": "code",
   "execution_count": 9,
   "metadata": {},
   "outputs": [],
   "source": [
    "scrapped_listings = {\n",
    "        \"news_title\": news_title,\n",
    "        \"news_paragraph\": news_description,\n",
    "        \"featured_image\": featured_image_url,\n",
    "        \"weather\": mars_weather,\n",
    "        \"facts\": facts_table,\n",
    "        \"hemispheres\": hemisphere_image_urls        \n",
    "    }"
   ]
  },
  {
   "cell_type": "code",
   "execution_count": 10,
   "metadata": {},
   "outputs": [
    {
     "data": {
      "text/plain": [
       "{'news_title': 'NASA Invites Students to Name Mars 2020 Rover',\n",
       " 'news_paragraph': \"Through Nov. 1, K-12 students in the U.S. are encouraged to enter an essay contest to name NASA's next Mars rover.\",\n",
       " 'featured_image': 'https://www.jpl.nasa.gov/spaceimages/images/wallpaper/PIA19980-1920x1200.jpg',\n",
       " 'weather': 'InSight sol 330 (2019-10-31) low -101.8ºC (-151.3ºF) high -24.8ºC (-12.6ºF)\\nwinds from the SSE at 5.4 m/s (12.2 mph) gusting to 20.8 m/s (46.5 mph)\\npressure at 7.00 hPa',\n",
       " 'facts': '<table border=\"1\" class=\"dataframe\">  <thead>    <tr style=\"text-align: right;\">      <th></th>      <th>Value</th>    </tr>    <tr>      <th>Description</th>      <th></th>    </tr>  </thead>  <tbody>    <tr>      <th>Equatorial Diameter:</th>      <td>6,792 km</td>    </tr>    <tr>      <th>Polar Diameter:</th>      <td>6,752 km</td>    </tr>    <tr>      <th>Mass:</th>      <td>6.39 × 10^23 kg (0.11 Earths)</td>    </tr>    <tr>      <th>Moons:</th>      <td>2 (Phobos &amp; Deimos)</td>    </tr>    <tr>      <th>Orbit Distance:</th>      <td>227,943,824 km (1.38 AU)</td>    </tr>    <tr>      <th>Orbit Period:</th>      <td>687 days (1.9 years)</td>    </tr>    <tr>      <th>Surface Temperature:</th>      <td>-87 to -5 °C</td>    </tr>    <tr>      <th>First Record:</th>      <td>2nd millennium BC</td>    </tr>    <tr>      <th>Recorded By:</th>      <td>Egyptian astronomers</td>    </tr>  </tbody></table>',\n",
       " 'hemispheres': [{'title': 'Cerberus Hemisphere Enhanced',\n",
       "   'img_url': 'http://astropedia.astrogeology.usgs.gov/download/Mars/Viking/cerberus_enhanced.tif/full.jpg'},\n",
       "  {'title': 'Schiaparelli Hemisphere Enhanced',\n",
       "   'img_url': 'http://astropedia.astrogeology.usgs.gov/download/Mars/Viking/schiaparelli_enhanced.tif/full.jpg'},\n",
       "  {'title': 'Syrtis Major Hemisphere Enhanced',\n",
       "   'img_url': 'http://astropedia.astrogeology.usgs.gov/download/Mars/Viking/syrtis_major_enhanced.tif/full.jpg'},\n",
       "  {'title': 'Valles Marineris Hemisphere Enhanced',\n",
       "   'img_url': 'http://astropedia.astrogeology.usgs.gov/download/Mars/Viking/valles_marineris_enhanced.tif/full.jpg'}]}"
      ]
     },
     "execution_count": 10,
     "metadata": {},
     "output_type": "execute_result"
    }
   ],
   "source": [
    "scrapped_listings"
   ]
  },
  {
   "cell_type": "code",
   "execution_count": null,
   "metadata": {},
   "outputs": [],
   "source": []
  }
 ],
 "metadata": {
  "kernelspec": {
   "display_name": "Python [conda env:PythonData] *",
   "language": "python",
   "name": "conda-env-PythonData-py"
  },
  "language_info": {
   "codemirror_mode": {
    "name": "ipython",
    "version": 3
   },
   "file_extension": ".py",
   "mimetype": "text/x-python",
   "name": "python",
   "nbconvert_exporter": "python",
   "pygments_lexer": "ipython3",
   "version": "3.6.8"
  }
 },
 "nbformat": 4,
 "nbformat_minor": 2
}
